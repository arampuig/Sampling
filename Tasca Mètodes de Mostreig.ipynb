{
 "cells": [
  {
   "cell_type": "code",
   "execution_count": 58,
   "metadata": {
    "ExecuteTime": {
     "end_time": "2021-06-04T16:03:35.045364Z",
     "start_time": "2021-06-04T16:03:35.036388Z"
    }
   },
   "outputs": [],
   "source": [
    "import pandas as pd\n",
    "import numpy as np\n",
    "import matplotlib.pyplot as plt\n",
    "from sklearn.model_selection import train_test_split\n",
    "from imblearn.over_sampling import SMOTE\n",
    "from sklearn.preprocessing import LabelEncoder\n",
    "from sklearn.preprocessing import StandardScaler\n",
    "import random\n",
    "\n",
    "pd.set_option('display.max_columns', 85)\n",
    "pd.set_option('display.max_rows', 85)"
   ]
  },
  {
   "cell_type": "markdown",
   "metadata": {},
   "source": [
    "Aprèn a realitzar mostreig de les dades amb Python.  \n",
    "Objectius:  \n",
    "-Preprocesar  \n",
    "-Mostrejar  \n",
    "### Nivell 1\n",
    "#### Exercici 1\n",
    "Agafa un conjunt de dades de tema esportiu que t'agradi. Realitza un mostreig de les dades  \n",
    "generant una mostra aleatòria simple i una mostra sistemàtica."
   ]
  },
  {
   "cell_type": "code",
   "execution_count": 4,
   "metadata": {
    "ExecuteTime": {
     "end_time": "2021-06-04T15:45:24.502453Z",
     "start_time": "2021-06-04T15:45:24.456574Z"
    }
   },
   "outputs": [],
   "source": [
    "df = pd.read_csv(r'MLB.txt', delimiter = \"\\t\")"
   ]
  },
  {
   "cell_type": "code",
   "execution_count": 3,
   "metadata": {
    "scrolled": true
   },
   "outputs": [
    {
     "data": {
      "text/html": [
       "<div>\n",
       "<style scoped>\n",
       "    .dataframe tbody tr th:only-of-type {\n",
       "        vertical-align: middle;\n",
       "    }\n",
       "\n",
       "    .dataframe tbody tr th {\n",
       "        vertical-align: top;\n",
       "    }\n",
       "\n",
       "    .dataframe thead th {\n",
       "        text-align: right;\n",
       "    }\n",
       "</style>\n",
       "<table border=\"1\" class=\"dataframe\">\n",
       "  <thead>\n",
       "    <tr style=\"text-align: right;\">\n",
       "      <th></th>\n",
       "      <th>player</th>\n",
       "      <th>team</th>\n",
       "      <th>position</th>\n",
       "      <th>salary</th>\n",
       "    </tr>\n",
       "  </thead>\n",
       "  <tbody>\n",
       "    <tr>\n",
       "      <th>0</th>\n",
       "      <td>Brandon Webb</td>\n",
       "      <td>Arizona Diamondbacks</td>\n",
       "      <td>Pitcher</td>\n",
       "      <td>8500.0</td>\n",
       "    </tr>\n",
       "    <tr>\n",
       "      <th>1</th>\n",
       "      <td>Danny Haren</td>\n",
       "      <td>Arizona Diamondbacks</td>\n",
       "      <td>Pitcher</td>\n",
       "      <td>8250.0</td>\n",
       "    </tr>\n",
       "    <tr>\n",
       "      <th>2</th>\n",
       "      <td>Chris Snyder</td>\n",
       "      <td>Arizona Diamondbacks</td>\n",
       "      <td>Catcher</td>\n",
       "      <td>5250.0</td>\n",
       "    </tr>\n",
       "    <tr>\n",
       "      <th>3</th>\n",
       "      <td>Edwin Jackson</td>\n",
       "      <td>Arizona Diamondbacks</td>\n",
       "      <td>Pitcher</td>\n",
       "      <td>4600.0</td>\n",
       "    </tr>\n",
       "    <tr>\n",
       "      <th>4</th>\n",
       "      <td>Adam LaRoche</td>\n",
       "      <td>Arizona Diamondbacks</td>\n",
       "      <td>First Baseman</td>\n",
       "      <td>4500.0</td>\n",
       "    </tr>\n",
       "  </tbody>\n",
       "</table>\n",
       "</div>"
      ],
      "text/plain": [
       "          player                  team       position  salary\n",
       "0   Brandon Webb  Arizona Diamondbacks        Pitcher  8500.0\n",
       "1    Danny Haren  Arizona Diamondbacks        Pitcher  8250.0\n",
       "2   Chris Snyder  Arizona Diamondbacks        Catcher  5250.0\n",
       "3  Edwin Jackson  Arizona Diamondbacks        Pitcher  4600.0\n",
       "4   Adam LaRoche  Arizona Diamondbacks  First Baseman  4500.0"
      ]
     },
     "execution_count": 3,
     "metadata": {},
     "output_type": "execute_result"
    }
   ],
   "source": [
    "df.head(5)"
   ]
  },
  {
   "cell_type": "code",
   "execution_count": 4,
   "metadata": {},
   "outputs": [
    {
     "data": {
      "text/plain": [
       "(828, 4)"
      ]
     },
     "execution_count": 4,
     "metadata": {},
     "output_type": "execute_result"
    }
   ],
   "source": [
    "df.shape"
   ]
  },
  {
   "cell_type": "code",
   "execution_count": 5,
   "metadata": {},
   "outputs": [
    {
     "data": {
      "text/plain": [
       "Index(['player', 'team', 'position', 'salary'], dtype='object')"
      ]
     },
     "execution_count": 5,
     "metadata": {},
     "output_type": "execute_result"
    }
   ],
   "source": [
    "df.columns"
   ]
  },
  {
   "cell_type": "code",
   "execution_count": 6,
   "metadata": {},
   "outputs": [],
   "source": [
    "# Mostra Aleàtoria Simple (SRS). Agafem una mostra de 10 mostres aleàtories:\n",
    "\n",
    "srs_df = df.sample(10)"
   ]
  },
  {
   "cell_type": "code",
   "execution_count": 7,
   "metadata": {},
   "outputs": [
    {
     "data": {
      "text/html": [
       "<div>\n",
       "<style scoped>\n",
       "    .dataframe tbody tr th:only-of-type {\n",
       "        vertical-align: middle;\n",
       "    }\n",
       "\n",
       "    .dataframe tbody tr th {\n",
       "        vertical-align: top;\n",
       "    }\n",
       "\n",
       "    .dataframe thead th {\n",
       "        text-align: right;\n",
       "    }\n",
       "</style>\n",
       "<table border=\"1\" class=\"dataframe\">\n",
       "  <thead>\n",
       "    <tr style=\"text-align: right;\">\n",
       "      <th></th>\n",
       "      <th>player</th>\n",
       "      <th>team</th>\n",
       "      <th>position</th>\n",
       "      <th>salary</th>\n",
       "    </tr>\n",
       "  </thead>\n",
       "  <tbody>\n",
       "    <tr>\n",
       "      <th>726</th>\n",
       "      <td>Willy Aybar</td>\n",
       "      <td>Tampa Bay Rays</td>\n",
       "      <td>First Baseman</td>\n",
       "      <td>1350.00</td>\n",
       "    </tr>\n",
       "    <tr>\n",
       "      <th>756</th>\n",
       "      <td>Darren O'Day</td>\n",
       "      <td>Texas Rangers</td>\n",
       "      <td>Pitcher</td>\n",
       "      <td>426.70</td>\n",
       "    </tr>\n",
       "    <tr>\n",
       "      <th>388</th>\n",
       "      <td>Vicente Padilla</td>\n",
       "      <td>Los Angeles Dodgers</td>\n",
       "      <td>Pitcher</td>\n",
       "      <td>5025.00</td>\n",
       "    </tr>\n",
       "    <tr>\n",
       "      <th>486</th>\n",
       "      <td>Henry Blanco</td>\n",
       "      <td>New York Mets</td>\n",
       "      <td>Catcher</td>\n",
       "      <td>750.00</td>\n",
       "    </tr>\n",
       "    <tr>\n",
       "      <th>4</th>\n",
       "      <td>Adam LaRoche</td>\n",
       "      <td>Arizona Diamondbacks</td>\n",
       "      <td>First Baseman</td>\n",
       "      <td>4500.00</td>\n",
       "    </tr>\n",
       "    <tr>\n",
       "      <th>493</th>\n",
       "      <td>Ruben Tejada</td>\n",
       "      <td>New York Mets</td>\n",
       "      <td>Shortstop</td>\n",
       "      <td>400.00</td>\n",
       "    </tr>\n",
       "    <tr>\n",
       "      <th>575</th>\n",
       "      <td>Antonio Bastardo</td>\n",
       "      <td>Philadelphia Phillies</td>\n",
       "      <td>Pitcher</td>\n",
       "      <td>405.00</td>\n",
       "    </tr>\n",
       "    <tr>\n",
       "      <th>418</th>\n",
       "      <td>Rickie Weeks</td>\n",
       "      <td>Milwaukee Brewers</td>\n",
       "      <td>Second Baseman</td>\n",
       "      <td>2750.00</td>\n",
       "    </tr>\n",
       "    <tr>\n",
       "      <th>271</th>\n",
       "      <td>Nate Robertson</td>\n",
       "      <td>Florida Marlins</td>\n",
       "      <td>Pitcher</td>\n",
       "      <td>10000.00</td>\n",
       "    </tr>\n",
       "    <tr>\n",
       "      <th>515</th>\n",
       "      <td>Alfredo Aceves</td>\n",
       "      <td>New York Yankees</td>\n",
       "      <td>Pitcher</td>\n",
       "      <td>435.65</td>\n",
       "    </tr>\n",
       "  </tbody>\n",
       "</table>\n",
       "</div>"
      ],
      "text/plain": [
       "               player                   team        position    salary\n",
       "726       Willy Aybar         Tampa Bay Rays   First Baseman   1350.00\n",
       "756      Darren O'Day          Texas Rangers         Pitcher    426.70\n",
       "388   Vicente Padilla    Los Angeles Dodgers         Pitcher   5025.00\n",
       "486      Henry Blanco          New York Mets         Catcher    750.00\n",
       "4        Adam LaRoche   Arizona Diamondbacks   First Baseman   4500.00\n",
       "493      Ruben Tejada          New York Mets       Shortstop    400.00\n",
       "575  Antonio Bastardo  Philadelphia Phillies         Pitcher    405.00\n",
       "418      Rickie Weeks      Milwaukee Brewers  Second Baseman   2750.00\n",
       "271    Nate Robertson        Florida Marlins         Pitcher  10000.00\n",
       "515    Alfredo Aceves       New York Yankees         Pitcher    435.65"
      ]
     },
     "execution_count": 7,
     "metadata": {},
     "output_type": "execute_result"
    }
   ],
   "source": [
    "srs_df"
   ]
  },
  {
   "cell_type": "code",
   "execution_count": 8,
   "metadata": {},
   "outputs": [
    {
     "data": {
      "text/html": [
       "<div>\n",
       "<style scoped>\n",
       "    .dataframe tbody tr th:only-of-type {\n",
       "        vertical-align: middle;\n",
       "    }\n",
       "\n",
       "    .dataframe tbody tr th {\n",
       "        vertical-align: top;\n",
       "    }\n",
       "\n",
       "    .dataframe thead th {\n",
       "        text-align: right;\n",
       "    }\n",
       "</style>\n",
       "<table border=\"1\" class=\"dataframe\">\n",
       "  <thead>\n",
       "    <tr style=\"text-align: right;\">\n",
       "      <th></th>\n",
       "      <th>player</th>\n",
       "      <th>team</th>\n",
       "      <th>position</th>\n",
       "      <th>salary</th>\n",
       "    </tr>\n",
       "  </thead>\n",
       "  <tbody>\n",
       "    <tr>\n",
       "      <th>0</th>\n",
       "      <td>Brandon Webb</td>\n",
       "      <td>Arizona Diamondbacks</td>\n",
       "      <td>Pitcher</td>\n",
       "      <td>8500.0</td>\n",
       "    </tr>\n",
       "    <tr>\n",
       "      <th>5</th>\n",
       "      <td>Chad Qualls</td>\n",
       "      <td>Arizona Diamondbacks</td>\n",
       "      <td>Pitcher</td>\n",
       "      <td>4185.0</td>\n",
       "    </tr>\n",
       "    <tr>\n",
       "      <th>10</th>\n",
       "      <td>Aaron Heilman</td>\n",
       "      <td>Arizona Diamondbacks</td>\n",
       "      <td>Pitcher</td>\n",
       "      <td>2150.0</td>\n",
       "    </tr>\n",
       "    <tr>\n",
       "      <th>15</th>\n",
       "      <td>Blaine Boyer</td>\n",
       "      <td>Arizona Diamondbacks</td>\n",
       "      <td>Pitcher</td>\n",
       "      <td>725.0</td>\n",
       "    </tr>\n",
       "    <tr>\n",
       "      <th>20</th>\n",
       "      <td>Tony Abreu</td>\n",
       "      <td>Arizona Diamondbacks</td>\n",
       "      <td>Shortstop</td>\n",
       "      <td>407.0</td>\n",
       "    </tr>\n",
       "    <tr>\n",
       "      <th>...</th>\n",
       "      <td>...</td>\n",
       "      <td>...</td>\n",
       "      <td>...</td>\n",
       "      <td>...</td>\n",
       "    </tr>\n",
       "    <tr>\n",
       "      <th>805</th>\n",
       "      <td>Chien-Ming Wang</td>\n",
       "      <td>Washington Nationals</td>\n",
       "      <td>Pitcher</td>\n",
       "      <td>2000.0</td>\n",
       "    </tr>\n",
       "    <tr>\n",
       "      <th>810</th>\n",
       "      <td>Sean Burnett</td>\n",
       "      <td>Washington Nationals</td>\n",
       "      <td>Pitcher</td>\n",
       "      <td>775.0</td>\n",
       "    </tr>\n",
       "    <tr>\n",
       "      <th>815</th>\n",
       "      <td>Tyler Walker</td>\n",
       "      <td>Washington Nationals</td>\n",
       "      <td>Pitcher</td>\n",
       "      <td>650.0</td>\n",
       "    </tr>\n",
       "    <tr>\n",
       "      <th>820</th>\n",
       "      <td>Mike Morse</td>\n",
       "      <td>Washington Nationals</td>\n",
       "      <td>First Baseman</td>\n",
       "      <td>410.0</td>\n",
       "    </tr>\n",
       "    <tr>\n",
       "      <th>825</th>\n",
       "      <td>Ross Detwiler</td>\n",
       "      <td>Washington Nationals</td>\n",
       "      <td>Pitcher</td>\n",
       "      <td>400.0</td>\n",
       "    </tr>\n",
       "  </tbody>\n",
       "</table>\n",
       "<p>166 rows × 4 columns</p>\n",
       "</div>"
      ],
      "text/plain": [
       "              player                  team       position  salary\n",
       "0       Brandon Webb  Arizona Diamondbacks        Pitcher  8500.0\n",
       "5        Chad Qualls  Arizona Diamondbacks        Pitcher  4185.0\n",
       "10     Aaron Heilman  Arizona Diamondbacks        Pitcher  2150.0\n",
       "15      Blaine Boyer  Arizona Diamondbacks        Pitcher   725.0\n",
       "20        Tony Abreu  Arizona Diamondbacks      Shortstop   407.0\n",
       "..               ...                   ...            ...     ...\n",
       "805  Chien-Ming Wang  Washington Nationals        Pitcher  2000.0\n",
       "810     Sean Burnett  Washington Nationals        Pitcher   775.0\n",
       "815     Tyler Walker  Washington Nationals        Pitcher   650.0\n",
       "820       Mike Morse  Washington Nationals  First Baseman   410.0\n",
       "825    Ross Detwiler  Washington Nationals        Pitcher   400.0\n",
       "\n",
       "[166 rows x 4 columns]"
      ]
     },
     "execution_count": 8,
     "metadata": {},
     "output_type": "execute_result"
    }
   ],
   "source": [
    "# Mostra sistemàtica. Comencem des del primer registre (df.index=0) tal com venien les dades per defecte,\n",
    "# i anem agafant una mostra cada 5 (5th).\n",
    "sys_sample_df = df.iloc[::5]\n",
    "sys_sample_df"
   ]
  },
  {
   "cell_type": "markdown",
   "metadata": {},
   "source": [
    "### Nivell 2\n",
    "#### Exercici 2\n",
    "Continua amb el conjunt de dades de tema esportiu i genera una mostra estratificada  \n",
    "i una mostra utilitzant SMOTE (Synthetic Minority Oversampling Technique)."
   ]
  },
  {
   "cell_type": "code",
   "execution_count": 9,
   "metadata": {},
   "outputs": [],
   "source": [
    "# Mostra estratificada. Volem agafar una mostra de les dades estratificant-les segons les posicions de joc dels jugadors:"
   ]
  },
  {
   "cell_type": "code",
   "execution_count": 10,
   "metadata": {
    "scrolled": false
   },
   "outputs": [
    {
     "data": {
      "text/plain": [
       "array(['Pitcher', 'Catcher', 'First Baseman', 'Outfielder', 'Shortstop',\n",
       "       'Second Baseman', 'Third Baseman', 'Designated Hitter',\n",
       "       'Infielder'], dtype=object)"
      ]
     },
     "execution_count": 10,
     "metadata": {},
     "output_type": "execute_result"
    }
   ],
   "source": [
    "df['position'].unique()"
   ]
  },
  {
   "cell_type": "code",
   "execution_count": 11,
   "metadata": {},
   "outputs": [
    {
     "data": {
      "text/plain": [
       "9"
      ]
     },
     "execution_count": 11,
     "metadata": {},
     "output_type": "execute_result"
    }
   ],
   "source": [
    "len(df['position'].unique())"
   ]
  },
  {
   "cell_type": "code",
   "execution_count": 12,
   "metadata": {},
   "outputs": [],
   "source": [
    "# Agrup segons la posició\n",
    "pos_grp = df.groupby(['position'], group_keys= True)"
   ]
  },
  {
   "cell_type": "code",
   "execution_count": 13,
   "metadata": {},
   "outputs": [],
   "source": [
    "# Dividim el df segons la posició, agafant una mostra del 20%:\n",
    "\n",
    "stratified_sample = pos_grp.apply(pd.DataFrame.sample, frac=.2)"
   ]
  },
  {
   "cell_type": "code",
   "execution_count": 14,
   "metadata": {},
   "outputs": [
    {
     "data": {
      "text/html": [
       "<div>\n",
       "<style scoped>\n",
       "    .dataframe tbody tr th:only-of-type {\n",
       "        vertical-align: middle;\n",
       "    }\n",
       "\n",
       "    .dataframe tbody tr th {\n",
       "        vertical-align: top;\n",
       "    }\n",
       "\n",
       "    .dataframe thead th {\n",
       "        text-align: right;\n",
       "    }\n",
       "</style>\n",
       "<table border=\"1\" class=\"dataframe\">\n",
       "  <thead>\n",
       "    <tr style=\"text-align: right;\">\n",
       "      <th></th>\n",
       "      <th></th>\n",
       "      <th>player</th>\n",
       "      <th>team</th>\n",
       "      <th>position</th>\n",
       "      <th>salary</th>\n",
       "    </tr>\n",
       "    <tr>\n",
       "      <th>position</th>\n",
       "      <th></th>\n",
       "      <th></th>\n",
       "      <th></th>\n",
       "      <th></th>\n",
       "      <th></th>\n",
       "    </tr>\n",
       "  </thead>\n",
       "  <tbody>\n",
       "    <tr>\n",
       "      <th rowspan=\"5\" valign=\"top\">Catcher</th>\n",
       "      <th>379</th>\n",
       "      <td>Robert Wilson</td>\n",
       "      <td>Los Angeles Angeles</td>\n",
       "      <td>Catcher</td>\n",
       "      <td>402.000</td>\n",
       "    </tr>\n",
       "    <tr>\n",
       "      <th>683</th>\n",
       "      <td>Adam Moore</td>\n",
       "      <td>Seattle Mariners</td>\n",
       "      <td>Catcher</td>\n",
       "      <td>401.000</td>\n",
       "    </tr>\n",
       "    <tr>\n",
       "      <th>315</th>\n",
       "      <td>Humberto Quintero</td>\n",
       "      <td>Houston Astros</td>\n",
       "      <td>Catcher</td>\n",
       "      <td>750.000</td>\n",
       "    </tr>\n",
       "    <tr>\n",
       "      <th>679</th>\n",
       "      <td>Rob J. Johnson</td>\n",
       "      <td>Seattle Mariners</td>\n",
       "      <td>Catcher</td>\n",
       "      <td>412.500</td>\n",
       "    </tr>\n",
       "    <tr>\n",
       "      <th>166</th>\n",
       "      <td>Ramon Hernandez</td>\n",
       "      <td>Cincinnati Reds</td>\n",
       "      <td>Catcher</td>\n",
       "      <td>3868.376</td>\n",
       "    </tr>\n",
       "    <tr>\n",
       "      <th>...</th>\n",
       "      <th>...</th>\n",
       "      <td>...</td>\n",
       "      <td>...</td>\n",
       "      <td>...</td>\n",
       "      <td>...</td>\n",
       "    </tr>\n",
       "    <tr>\n",
       "      <th rowspan=\"5\" valign=\"top\">Third Baseman</th>\n",
       "      <th>24</th>\n",
       "      <td>Rusty Ryal</td>\n",
       "      <td>Arizona Diamondbacks</td>\n",
       "      <td>Third Baseman</td>\n",
       "      <td>401.000</td>\n",
       "    </tr>\n",
       "    <tr>\n",
       "      <th>592</th>\n",
       "      <td>Andy LaRoche</td>\n",
       "      <td>Pittsburgh Pirates</td>\n",
       "      <td>Third Baseman</td>\n",
       "      <td>451.000</td>\n",
       "    </tr>\n",
       "    <tr>\n",
       "      <th>430</th>\n",
       "      <td>Casey McGehee</td>\n",
       "      <td>Milwaukee Brewers</td>\n",
       "      <td>Third Baseman</td>\n",
       "      <td>427.500</td>\n",
       "    </tr>\n",
       "    <tr>\n",
       "      <th>13</th>\n",
       "      <td>Mark Reynolds</td>\n",
       "      <td>Arizona Diamondbacks</td>\n",
       "      <td>Third Baseman</td>\n",
       "      <td>833.333</td>\n",
       "    </tr>\n",
       "    <tr>\n",
       "      <th>110</th>\n",
       "      <td>Aramis Ramirez</td>\n",
       "      <td>Chicago Cubs</td>\n",
       "      <td>Third Baseman</td>\n",
       "      <td>16750.000</td>\n",
       "    </tr>\n",
       "  </tbody>\n",
       "</table>\n",
       "<p>165 rows × 4 columns</p>\n",
       "</div>"
      ],
      "text/plain": [
       "                              player                  team       position  \\\n",
       "position                                                                    \n",
       "Catcher       379      Robert Wilson   Los Angeles Angeles        Catcher   \n",
       "              683         Adam Moore      Seattle Mariners        Catcher   \n",
       "              315  Humberto Quintero        Houston Astros        Catcher   \n",
       "              679     Rob J. Johnson      Seattle Mariners        Catcher   \n",
       "              166    Ramon Hernandez       Cincinnati Reds        Catcher   \n",
       "...                              ...                   ...            ...   \n",
       "Third Baseman 24          Rusty Ryal  Arizona Diamondbacks  Third Baseman   \n",
       "              592       Andy LaRoche    Pittsburgh Pirates  Third Baseman   \n",
       "              430      Casey McGehee     Milwaukee Brewers  Third Baseman   \n",
       "              13       Mark Reynolds  Arizona Diamondbacks  Third Baseman   \n",
       "              110     Aramis Ramirez          Chicago Cubs  Third Baseman   \n",
       "\n",
       "                      salary  \n",
       "position                      \n",
       "Catcher       379    402.000  \n",
       "              683    401.000  \n",
       "              315    750.000  \n",
       "              679    412.500  \n",
       "              166   3868.376  \n",
       "...                      ...  \n",
       "Third Baseman 24     401.000  \n",
       "              592    451.000  \n",
       "              430    427.500  \n",
       "              13     833.333  \n",
       "              110  16750.000  \n",
       "\n",
       "[165 rows x 4 columns]"
      ]
     },
     "execution_count": 14,
     "metadata": {},
     "output_type": "execute_result"
    }
   ],
   "source": [
    "stratified_sample"
   ]
  },
  {
   "cell_type": "code",
   "execution_count": 15,
   "metadata": {},
   "outputs": [
    {
     "data": {
      "text/plain": [
       "Pitcher              0.495169\n",
       "Outfielder           0.178744\n",
       "Catcher              0.080918\n",
       "Shortstop            0.067633\n",
       "Second Baseman       0.057971\n",
       "Third Baseman        0.055556\n",
       "First Baseman        0.050725\n",
       "Designated Hitter    0.008454\n",
       "Infielder            0.004831\n",
       "Name: position, dtype: float64"
      ]
     },
     "execution_count": 15,
     "metadata": {},
     "output_type": "execute_result"
    }
   ],
   "source": [
    "# Abans d'extreure la mostra mirem quin % de jugadors hi ha de cada posició\n",
    "df['position'].value_counts(normalize=True)"
   ]
  },
  {
   "cell_type": "code",
   "execution_count": 16,
   "metadata": {},
   "outputs": [],
   "source": [
    "# Ara fem una mostra stratificada aplicant el mètode training-test de sklearn:\n",
    "df_train, df_test = train_test_split(df, test_size = 0.2, stratify=df['position'])"
   ]
  },
  {
   "cell_type": "code",
   "execution_count": 17,
   "metadata": {},
   "outputs": [
    {
     "data": {
      "text/plain": [
       "Pitcher              0.495468\n",
       "Outfielder           0.178248\n",
       "Catcher              0.080060\n",
       "Shortstop            0.067976\n",
       "Second Baseman       0.057402\n",
       "Third Baseman        0.055891\n",
       "First Baseman        0.051360\n",
       "Designated Hitter    0.009063\n",
       "Infielder            0.004532\n",
       "Name: position, dtype: float64"
      ]
     },
     "execution_count": 17,
     "metadata": {},
     "output_type": "execute_result"
    }
   ],
   "source": [
    "# Si ho hem fet bé la mostra hauria de contenir un % de jugadors amb la seva posició,\n",
    "# igual o molt semblant al del total de les dades.\n",
    "\n",
    "df_train['position'].value_counts(normalize=True)"
   ]
  },
  {
   "cell_type": "code",
   "execution_count": 18,
   "metadata": {
    "scrolled": true
   },
   "outputs": [
    {
     "data": {
      "text/plain": [
       "Pitcher              0.493976\n",
       "Outfielder           0.180723\n",
       "Catcher              0.084337\n",
       "Shortstop            0.066265\n",
       "Second Baseman       0.060241\n",
       "Third Baseman        0.054217\n",
       "First Baseman        0.048193\n",
       "Infielder            0.006024\n",
       "Designated Hitter    0.006024\n",
       "Name: position, dtype: float64"
      ]
     },
     "execution_count": 18,
     "metadata": {},
     "output_type": "execute_result"
    }
   ],
   "source": [
    "# Tan en el train com en el test:\n",
    "df_test['position'].value_counts(normalize=True)"
   ]
  },
  {
   "cell_type": "markdown",
   "metadata": {},
   "source": [
    "SMOTE"
   ]
  },
  {
   "cell_type": "markdown",
   "metadata": {},
   "source": [
    "Agafem només dues classes, les majoritàries, que de totes maneres no estan balancejades:"
   ]
  },
  {
   "cell_type": "code",
   "execution_count": 17,
   "metadata": {
    "ExecuteTime": {
     "end_time": "2021-06-04T15:48:57.440583Z",
     "start_time": "2021-06-04T15:48:57.423630Z"
    }
   },
   "outputs": [],
   "source": [
    "pitcher = df[df['position']=='Pitcher']"
   ]
  },
  {
   "cell_type": "code",
   "execution_count": 18,
   "metadata": {
    "ExecuteTime": {
     "end_time": "2021-06-04T15:49:10.732352Z",
     "start_time": "2021-06-04T15:49:10.726368Z"
    }
   },
   "outputs": [],
   "source": [
    "outfielder= df[df['position']=='Outfielder']"
   ]
  },
  {
   "cell_type": "code",
   "execution_count": 20,
   "metadata": {
    "ExecuteTime": {
     "end_time": "2021-06-04T15:49:57.595767Z",
     "start_time": "2021-06-04T15:49:57.575786Z"
    }
   },
   "outputs": [],
   "source": [
    "df_1 = pd.concat([pitcher, outfielder])"
   ]
  },
  {
   "cell_type": "code",
   "execution_count": 21,
   "metadata": {
    "ExecuteTime": {
     "end_time": "2021-06-04T15:50:01.469409Z",
     "start_time": "2021-06-04T15:50:01.442483Z"
    }
   },
   "outputs": [
    {
     "data": {
      "text/html": [
       "<div>\n",
       "<style scoped>\n",
       "    .dataframe tbody tr th:only-of-type {\n",
       "        vertical-align: middle;\n",
       "    }\n",
       "\n",
       "    .dataframe tbody tr th {\n",
       "        vertical-align: top;\n",
       "    }\n",
       "\n",
       "    .dataframe thead th {\n",
       "        text-align: right;\n",
       "    }\n",
       "</style>\n",
       "<table border=\"1\" class=\"dataframe\">\n",
       "  <thead>\n",
       "    <tr style=\"text-align: right;\">\n",
       "      <th></th>\n",
       "      <th>player</th>\n",
       "      <th>team</th>\n",
       "      <th>position</th>\n",
       "      <th>salary</th>\n",
       "    </tr>\n",
       "  </thead>\n",
       "  <tbody>\n",
       "    <tr>\n",
       "      <th>0</th>\n",
       "      <td>Brandon Webb</td>\n",
       "      <td>Arizona Diamondbacks</td>\n",
       "      <td>Pitcher</td>\n",
       "      <td>8500.0</td>\n",
       "    </tr>\n",
       "    <tr>\n",
       "      <th>1</th>\n",
       "      <td>Danny Haren</td>\n",
       "      <td>Arizona Diamondbacks</td>\n",
       "      <td>Pitcher</td>\n",
       "      <td>8250.0</td>\n",
       "    </tr>\n",
       "    <tr>\n",
       "      <th>3</th>\n",
       "      <td>Edwin Jackson</td>\n",
       "      <td>Arizona Diamondbacks</td>\n",
       "      <td>Pitcher</td>\n",
       "      <td>4600.0</td>\n",
       "    </tr>\n",
       "    <tr>\n",
       "      <th>5</th>\n",
       "      <td>Chad Qualls</td>\n",
       "      <td>Arizona Diamondbacks</td>\n",
       "      <td>Pitcher</td>\n",
       "      <td>4185.0</td>\n",
       "    </tr>\n",
       "    <tr>\n",
       "      <th>10</th>\n",
       "      <td>Aaron Heilman</td>\n",
       "      <td>Arizona Diamondbacks</td>\n",
       "      <td>Pitcher</td>\n",
       "      <td>2150.0</td>\n",
       "    </tr>\n",
       "    <tr>\n",
       "      <th>...</th>\n",
       "      <td>...</td>\n",
       "      <td>...</td>\n",
       "      <td>...</td>\n",
       "      <td>...</td>\n",
       "    </tr>\n",
       "    <tr>\n",
       "      <th>793</th>\n",
       "      <td>Travis Snider</td>\n",
       "      <td>Toronto Blue Jays</td>\n",
       "      <td>Outfielder</td>\n",
       "      <td>405.8</td>\n",
       "    </tr>\n",
       "    <tr>\n",
       "      <th>802</th>\n",
       "      <td>Josh Willingham</td>\n",
       "      <td>Washington Nationals</td>\n",
       "      <td>Outfielder</td>\n",
       "      <td>4600.0</td>\n",
       "    </tr>\n",
       "    <tr>\n",
       "      <th>807</th>\n",
       "      <td>Willie Harris</td>\n",
       "      <td>Washington Nationals</td>\n",
       "      <td>Outfielder</td>\n",
       "      <td>1500.0</td>\n",
       "    </tr>\n",
       "    <tr>\n",
       "      <th>817</th>\n",
       "      <td>Nyjer Morgan</td>\n",
       "      <td>Washington Nationals</td>\n",
       "      <td>Outfielder</td>\n",
       "      <td>426.5</td>\n",
       "    </tr>\n",
       "    <tr>\n",
       "      <th>827</th>\n",
       "      <td>Willy Taveras</td>\n",
       "      <td>Washington Nationals</td>\n",
       "      <td>Outfielder</td>\n",
       "      <td>400.0</td>\n",
       "    </tr>\n",
       "  </tbody>\n",
       "</table>\n",
       "<p>558 rows × 4 columns</p>\n",
       "</div>"
      ],
      "text/plain": [
       "              player                  team    position  salary\n",
       "0       Brandon Webb  Arizona Diamondbacks     Pitcher  8500.0\n",
       "1        Danny Haren  Arizona Diamondbacks     Pitcher  8250.0\n",
       "3      Edwin Jackson  Arizona Diamondbacks     Pitcher  4600.0\n",
       "5        Chad Qualls  Arizona Diamondbacks     Pitcher  4185.0\n",
       "10     Aaron Heilman  Arizona Diamondbacks     Pitcher  2150.0\n",
       "..               ...                   ...         ...     ...\n",
       "793    Travis Snider     Toronto Blue Jays  Outfielder   405.8\n",
       "802  Josh Willingham  Washington Nationals  Outfielder  4600.0\n",
       "807    Willie Harris  Washington Nationals  Outfielder  1500.0\n",
       "817     Nyjer Morgan  Washington Nationals  Outfielder   426.5\n",
       "827    Willy Taveras  Washington Nationals  Outfielder   400.0\n",
       "\n",
       "[558 rows x 4 columns]"
      ]
     },
     "execution_count": 21,
     "metadata": {},
     "output_type": "execute_result"
    }
   ],
   "source": [
    "df_1"
   ]
  },
  {
   "cell_type": "code",
   "execution_count": 23,
   "metadata": {
    "ExecuteTime": {
     "end_time": "2021-06-04T15:50:57.316179Z",
     "start_time": "2021-06-04T15:50:57.278264Z"
    }
   },
   "outputs": [
    {
     "data": {
      "text/plain": [
       "Pitcher       0.734767\n",
       "Outfielder    0.265233\n",
       "Name: position, dtype: float64"
      ]
     },
     "execution_count": 23,
     "metadata": {},
     "output_type": "execute_result"
    }
   ],
   "source": [
    "df_1['position'].value_counts(normalize=True)"
   ]
  },
  {
   "cell_type": "markdown",
   "metadata": {},
   "source": [
    "La classe Pitcher té un 73'5% dels valors totals i Outfielder un 26,5%. Passem les dades a binari:"
   ]
  },
  {
   "cell_type": "code",
   "execution_count": 24,
   "metadata": {
    "ExecuteTime": {
     "end_time": "2021-06-04T15:53:21.488249Z",
     "start_time": "2021-06-04T15:53:21.479311Z"
    }
   },
   "outputs": [],
   "source": [
    "encoder = LabelEncoder()\n",
    "df_1['position'] = encoder.fit_transform(df_1['position'])"
   ]
  },
  {
   "cell_type": "code",
   "execution_count": 33,
   "metadata": {
    "ExecuteTime": {
     "end_time": "2021-06-04T15:55:57.126817Z",
     "start_time": "2021-06-04T15:55:57.105875Z"
    },
    "collapsed": true
   },
   "outputs": [
    {
     "data": {
      "text/html": [
       "<div>\n",
       "<style scoped>\n",
       "    .dataframe tbody tr th:only-of-type {\n",
       "        vertical-align: middle;\n",
       "    }\n",
       "\n",
       "    .dataframe tbody tr th {\n",
       "        vertical-align: top;\n",
       "    }\n",
       "\n",
       "    .dataframe thead th {\n",
       "        text-align: right;\n",
       "    }\n",
       "</style>\n",
       "<table border=\"1\" class=\"dataframe\">\n",
       "  <thead>\n",
       "    <tr style=\"text-align: right;\">\n",
       "      <th></th>\n",
       "      <th>player</th>\n",
       "      <th>team</th>\n",
       "      <th>position</th>\n",
       "      <th>salary</th>\n",
       "    </tr>\n",
       "  </thead>\n",
       "  <tbody>\n",
       "    <tr>\n",
       "      <th>0</th>\n",
       "      <td>Brandon Webb</td>\n",
       "      <td>Arizona Diamondbacks</td>\n",
       "      <td>1</td>\n",
       "      <td>8500.0</td>\n",
       "    </tr>\n",
       "    <tr>\n",
       "      <th>1</th>\n",
       "      <td>Danny Haren</td>\n",
       "      <td>Arizona Diamondbacks</td>\n",
       "      <td>1</td>\n",
       "      <td>8250.0</td>\n",
       "    </tr>\n",
       "    <tr>\n",
       "      <th>3</th>\n",
       "      <td>Edwin Jackson</td>\n",
       "      <td>Arizona Diamondbacks</td>\n",
       "      <td>1</td>\n",
       "      <td>4600.0</td>\n",
       "    </tr>\n",
       "    <tr>\n",
       "      <th>5</th>\n",
       "      <td>Chad Qualls</td>\n",
       "      <td>Arizona Diamondbacks</td>\n",
       "      <td>1</td>\n",
       "      <td>4185.0</td>\n",
       "    </tr>\n",
       "    <tr>\n",
       "      <th>10</th>\n",
       "      <td>Aaron Heilman</td>\n",
       "      <td>Arizona Diamondbacks</td>\n",
       "      <td>1</td>\n",
       "      <td>2150.0</td>\n",
       "    </tr>\n",
       "    <tr>\n",
       "      <th>...</th>\n",
       "      <td>...</td>\n",
       "      <td>...</td>\n",
       "      <td>...</td>\n",
       "      <td>...</td>\n",
       "    </tr>\n",
       "    <tr>\n",
       "      <th>793</th>\n",
       "      <td>Travis Snider</td>\n",
       "      <td>Toronto Blue Jays</td>\n",
       "      <td>0</td>\n",
       "      <td>405.8</td>\n",
       "    </tr>\n",
       "    <tr>\n",
       "      <th>802</th>\n",
       "      <td>Josh Willingham</td>\n",
       "      <td>Washington Nationals</td>\n",
       "      <td>0</td>\n",
       "      <td>4600.0</td>\n",
       "    </tr>\n",
       "    <tr>\n",
       "      <th>807</th>\n",
       "      <td>Willie Harris</td>\n",
       "      <td>Washington Nationals</td>\n",
       "      <td>0</td>\n",
       "      <td>1500.0</td>\n",
       "    </tr>\n",
       "    <tr>\n",
       "      <th>817</th>\n",
       "      <td>Nyjer Morgan</td>\n",
       "      <td>Washington Nationals</td>\n",
       "      <td>0</td>\n",
       "      <td>426.5</td>\n",
       "    </tr>\n",
       "    <tr>\n",
       "      <th>827</th>\n",
       "      <td>Willy Taveras</td>\n",
       "      <td>Washington Nationals</td>\n",
       "      <td>0</td>\n",
       "      <td>400.0</td>\n",
       "    </tr>\n",
       "  </tbody>\n",
       "</table>\n",
       "<p>558 rows × 4 columns</p>\n",
       "</div>"
      ],
      "text/plain": [
       "              player                  team  position  salary\n",
       "0       Brandon Webb  Arizona Diamondbacks         1  8500.0\n",
       "1        Danny Haren  Arizona Diamondbacks         1  8250.0\n",
       "3      Edwin Jackson  Arizona Diamondbacks         1  4600.0\n",
       "5        Chad Qualls  Arizona Diamondbacks         1  4185.0\n",
       "10     Aaron Heilman  Arizona Diamondbacks         1  2150.0\n",
       "..               ...                   ...       ...     ...\n",
       "793    Travis Snider     Toronto Blue Jays         0   405.8\n",
       "802  Josh Willingham  Washington Nationals         0  4600.0\n",
       "807    Willie Harris  Washington Nationals         0  1500.0\n",
       "817     Nyjer Morgan  Washington Nationals         0   426.5\n",
       "827    Willy Taveras  Washington Nationals         0   400.0\n",
       "\n",
       "[558 rows x 4 columns]"
      ]
     },
     "execution_count": 33,
     "metadata": {},
     "output_type": "execute_result"
    }
   ],
   "source": [
    "df_1"
   ]
  },
  {
   "cell_type": "code",
   "execution_count": 34,
   "metadata": {
    "ExecuteTime": {
     "end_time": "2021-06-04T15:56:03.292893Z",
     "start_time": "2021-06-04T15:56:03.282920Z"
    }
   },
   "outputs": [],
   "source": [
    "df_1.drop('player', axis = 1, inplace=True)"
   ]
  },
  {
   "cell_type": "code",
   "execution_count": 35,
   "metadata": {
    "ExecuteTime": {
     "end_time": "2021-06-04T15:56:24.427387Z",
     "start_time": "2021-06-04T15:56:24.411430Z"
    }
   },
   "outputs": [],
   "source": [
    "encoder = LabelEncoder()\n",
    "df_1['team'] = encoder.fit_transform(df_1['team'])"
   ]
  },
  {
   "cell_type": "markdown",
   "metadata": {},
   "source": [
    "Train Test Split"
   ]
  },
  {
   "cell_type": "code",
   "execution_count": 51,
   "metadata": {
    "ExecuteTime": {
     "end_time": "2021-06-04T16:02:56.460337Z",
     "start_time": "2021-06-04T16:02:56.443412Z"
    }
   },
   "outputs": [],
   "source": [
    "X = (df_1.drop(['position'], 1))\n",
    "y = (df_1['position'])\n",
    "X = StandardScaler().fit_transform(X)\n",
    "\n",
    "X_train, X_test, y_train, y_test = train_test_split(X, y, test_size = 0.2)"
   ]
  },
  {
   "cell_type": "code",
   "execution_count": 52,
   "metadata": {
    "ExecuteTime": {
     "end_time": "2021-06-04T16:02:56.976437Z",
     "start_time": "2021-06-04T16:02:56.959484Z"
    }
   },
   "outputs": [
    {
     "name": "stdout",
     "output_type": "stream",
     "text": [
      "Abans de l'SMOTE:  1    327\n",
      "0    119\n",
      "Name: position, dtype: int64\n"
     ]
    }
   ],
   "source": [
    "counter = y_train.value_counts()\n",
    "print(\"Abans de l'SMOTE: \", counter)"
   ]
  },
  {
   "cell_type": "code",
   "execution_count": 53,
   "metadata": {
    "ExecuteTime": {
     "end_time": "2021-06-04T16:02:58.708111Z",
     "start_time": "2021-06-04T16:02:58.693152Z"
    }
   },
   "outputs": [
    {
     "name": "stdout",
     "output_type": "stream",
     "text": [
      "Després de l'SMOTE:  0    327\n",
      "1    327\n",
      "Name: position, dtype: int64\n"
     ]
    }
   ],
   "source": [
    "sm = SMOTE(random_state=27)\n",
    "X_train_sm, y_train_sm = sm.fit_resample(X_train, y_train)\n",
    "\n",
    "counter = y_train_sm.value_counts()\n",
    "print(\"Després de l'SMOTE: \", counter)"
   ]
  },
  {
   "cell_type": "code",
   "execution_count": 54,
   "metadata": {
    "ExecuteTime": {
     "end_time": "2021-06-04T16:03:00.209805Z",
     "start_time": "2021-06-04T16:02:59.865721Z"
    }
   },
   "outputs": [
    {
     "data": {
      "text/plain": [
       "Text(0, 0.5, 'Number of players')"
      ]
     },
     "execution_count": 54,
     "metadata": {},
     "output_type": "execute_result"
    },
    {
     "data": {
      "image/png": "[encoded data removed]",
      "text/plain": [
       "<Figure size 720x432 with 1 Axes>"
      ]
     },
     "metadata": {
      "needs_background": "light"
     },
     "output_type": "display_data"
    }
   ],
   "source": [
    "ax = df['position'].value_counts().plot(kind='bar', figsize=(10, 6), fontsize=13, color='#087E8B')\n",
    "ax.set_title('Total Baseball positions', size=20, pad=30)\n",
    "ax.set_ylabel('Number of players', fontsize=14)\n"
   ]
  },
  {
   "cell_type": "code",
   "execution_count": 55,
   "metadata": {
    "ExecuteTime": {
     "end_time": "2021-06-04T16:03:01.746654Z",
     "start_time": "2021-06-04T16:03:01.533182Z"
    }
   },
   "outputs": [
    {
     "data": {
      "text/plain": [
       "Text(0, 0.5, 'Number of players')"
      ]
     },
     "execution_count": 55,
     "metadata": {},
     "output_type": "execute_result"
    },
    {
     "data": {
      "image/png": "[encoded data removed]",
      "text/plain": [
       "<Figure size 720x432 with 1 Axes>"
      ]
     },
     "metadata": {
      "needs_background": "light"
     },
     "output_type": "display_data"
    }
   ],
   "source": [
    "ax = y_train.value_counts().plot(kind='bar', figsize=(10, 6), fontsize=13, color='#087E8B')\n",
    "ax.set_title('Pitcher-Outfielder values before SMOTE', size=20, pad=30)\n",
    "ax.set_ylabel('Number of players', fontsize=14)"
   ]
  },
  {
   "cell_type": "code",
   "execution_count": 57,
   "metadata": {
    "ExecuteTime": {
     "end_time": "2021-06-04T16:03:12.225801Z",
     "start_time": "2021-06-04T16:03:12.012372Z"
    }
   },
   "outputs": [
    {
     "data": {
      "text/plain": [
       "Text(0, 0.5, 'Number of players')"
      ]
     },
     "execution_count": 57,
     "metadata": {},
     "output_type": "execute_result"
    },
    {
     "data": {
      "image/png": "[encoded data removed]",
      "text/plain": [
       "<Figure size 720x432 with 1 Axes>"
      ]
     },
     "metadata": {
      "needs_background": "light"
     },
     "output_type": "display_data"
    }
   ],
   "source": [
    "ax = y_train_sm.value_counts().plot(kind='bar', figsize=(10, 6), fontsize=13, color='#087E8B')\n",
    "ax.set_title('Pitcher-Outfielder values after SMOTE', size=20, pad=30)\n",
    "ax.set_ylabel('Number of players', fontsize=14)"
   ]
  },
  {
   "cell_type": "markdown",
   "metadata": {},
   "source": [
    "### Nivell 3\n",
    "#### Exercici 3\n",
    "Continua amb el conjunt de dades de tema esportiu i genera una mostra utilitzant el mètode Reservoir sampling."
   ]
  },
  {
   "cell_type": "code",
   "execution_count": 61,
   "metadata": {
    "ExecuteTime": {
     "end_time": "2021-06-04T16:09:02.260743Z",
     "start_time": "2021-06-04T16:09:02.253727Z"
    }
   },
   "outputs": [],
   "source": [
    "# Creem una funció pel mètode de mostreig 'Reservoir'.\n",
    "\n",
    "\n",
    "def reservoir_sampling(column, n_samples):\n",
    "    reservoir = []\n",
    "    k = n_samples\n",
    "\n",
    "    for i, element in enumerate(column):\n",
    "        if i+1<= k:\n",
    "            reservoir.append(element)\n",
    "        else:\n",
    "            probability = k/(i+1)\n",
    "            if random.random() < probability:\n",
    "                # Select item in stream and remove one of the k items already selected\n",
    "                 reservoir[random.choice(range(0,k))] = element\n",
    "                    \n",
    "    return(print(reservoir))\n"
   ]
  },
  {
   "cell_type": "code",
   "execution_count": 63,
   "metadata": {
    "ExecuteTime": {
     "end_time": "2021-06-04T16:10:43.762833Z",
     "start_time": "2021-06-04T16:10:43.755851Z"
    }
   },
   "outputs": [
    {
     "name": "stdout",
     "output_type": "stream",
     "text": [
      "[8333.333, 2250.0, 402.0, 440.0, 1500.0, 15000.0, 426.5, 3000.0, 470.0, 415.0, 12500.0, 3650.0, 15433.333, 775.0, 402.0, 1750.0, 422.0, 11500.0, 440.0, 427.4]\n"
     ]
    }
   ],
   "source": [
    "# Agafem una mostra de k = 20 observacions de la variable 'salary' :               \n",
    "\n",
    "reservoir_sampling(df['salary'], 20)"
   ]
  },
  {
   "cell_type": "code",
   "execution_count": null,
   "metadata": {},
   "outputs": [],
   "source": []
  }
 ],
 "metadata": {
  "kernelspec": {
   "display_name": "Python 3",
   "language": "python",
   "name": "python3"
  },
  "language_info": {
   "codemirror_mode": {
    "name": "ipython",
    "version": 3
   },
   "file_extension": ".py",
   "mimetype": "text/x-python",
   "name": "python",
   "nbconvert_exporter": "python",
   "pygments_lexer": "ipython3",
   "version": "3.8.8"
  }
 },
 "nbformat": 4,
 "nbformat_minor": 4
}
